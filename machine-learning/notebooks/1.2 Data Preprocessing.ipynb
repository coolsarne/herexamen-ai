{
 "cells": [
  {
   "cell_type": "markdown",
   "source": [
    "Student: Arne Cools - IAI3 - 2022/2023"
   ],
   "metadata": {
    "collapsed": false
   }
  },
  {
   "cell_type": "markdown",
   "source": [
    "# Model Evaluation & Hyperparameter Tuning\n",
    "## Part 1 - Dataset & Data Preprocessing\n",
    "### 1.2 Data Preprocessing"
   ],
   "metadata": {
    "collapsed": false
   }
  },
  {
   "cell_type": "markdown",
   "source": [
    "#### 1.2.1 Data Preparation\n",
    "Clean the data, remove outliers, handle missing values, etc."
   ],
   "metadata": {
    "collapsed": false
   }
  },
  {
   "cell_type": "code",
   "execution_count": 93,
   "outputs": [],
   "source": [
    "import pandas as pd\n",
    "import numpy as np\n",
    "from sklearn.preprocessing import StandardScaler\n",
    "from sklearn.feature_selection import f_regression, SelectPercentile\n",
    "from sklearn.preprocessing import LabelEncoder"
   ],
   "metadata": {
    "collapsed": false,
    "ExecuteTime": {
     "start_time": "2023-08-24T20:18:34.397789Z",
     "end_time": "2023-08-24T20:18:35.190862Z"
    }
   }
  },
  {
   "cell_type": "code",
   "execution_count": 94,
   "outputs": [
    {
     "data": {
      "text/plain": "                                                  App           Category  \\\n0      Photo Editor & Candy Camera & Grid & ScrapBook     ART_AND_DESIGN   \n1                                 Coloring book moana     ART_AND_DESIGN   \n2   U Launcher Lite – FREE Live Cool Themes, Hide ...     ART_AND_DESIGN   \n3                               Sketch - Draw & Paint     ART_AND_DESIGN   \n4               Pixel Draw - Number Art Coloring Book     ART_AND_DESIGN   \n5                          Paper flowers instructions     ART_AND_DESIGN   \n6             Smoke Effect Photo Maker - Smoke Editor     ART_AND_DESIGN   \n7                                    Infinite Painter     ART_AND_DESIGN   \n8                                Garden Coloring Book     ART_AND_DESIGN   \n9                       Kids Paint Free - Drawing Fun     ART_AND_DESIGN   \n10                            Text on Photo - Fonteee     ART_AND_DESIGN   \n11            Name Art Photo Editor - Focus n Filters     ART_AND_DESIGN   \n12                     Tattoo Name On My Photo Editor     ART_AND_DESIGN   \n13                              Mandala Coloring Book     ART_AND_DESIGN   \n14    3D Color Pixel by Number - Sandbox Art Coloring     ART_AND_DESIGN   \n15                    Learn To Draw Kawaii Characters     ART_AND_DESIGN   \n16       Photo Designer - Write your name with shapes     ART_AND_DESIGN   \n17                           350 Diy Room Decor Ideas     ART_AND_DESIGN   \n18                      FlipaClip - Cartoon animation     ART_AND_DESIGN   \n19                                       ibis Paint X     ART_AND_DESIGN   \n20                        Logo Maker - Small Business     ART_AND_DESIGN   \n21          Boys Photo Editor - Six Pack & Men's Suit     ART_AND_DESIGN   \n22            Superheroes Wallpapers | 4K Backgrounds     ART_AND_DESIGN   \n23                             Mcqueen Coloring pages     ART_AND_DESIGN   \n24                        HD Mickey Minnie Wallpapers     ART_AND_DESIGN   \n25                         Harley Quinn wallpapers HD     ART_AND_DESIGN   \n26                      Colorfit - Drawing & Coloring     ART_AND_DESIGN   \n27                              Animated Photo Editor     ART_AND_DESIGN   \n28                              Pencil Sketch Drawing     ART_AND_DESIGN   \n29                    Easy Realistic Drawing Tutorial     ART_AND_DESIGN   \n30                     Pink Silver Bow Keyboard Theme     ART_AND_DESIGN   \n31                                  Art Drawing Ideas     ART_AND_DESIGN   \n32                          Anime Manga Coloring Book     ART_AND_DESIGN   \n33                                 Easy Origami Ideas     ART_AND_DESIGN   \n34                                    I Creative Idea     ART_AND_DESIGN   \n35                   How to draw Ladybug and Cat Noir     ART_AND_DESIGN   \n36     UNICORN - Color By Number & Pixel Art Coloring     ART_AND_DESIGN   \n37                                 Floor Plan Creator     ART_AND_DESIGN   \n38                     PIP Camera - PIP Collage Maker     ART_AND_DESIGN   \n39      How To Color Disney Princess - Coloring Pages     ART_AND_DESIGN   \n40                      Drawing Clothes Fashion Ideas     ART_AND_DESIGN   \n41                       Sad Poetry Photo Frames 2018     ART_AND_DESIGN   \n42                         Textgram - write on photos     ART_AND_DESIGN   \n43                                      Paint Splash!     ART_AND_DESIGN   \n44        Popsicle Sticks and Similar DIY Craft Ideas     ART_AND_DESIGN   \n45  Canva: Poster, banner, card maker & graphic de...     ART_AND_DESIGN   \n46  Install images with music to make video withou...     ART_AND_DESIGN   \n47              Little Teddy Bear Colouring Book Game     ART_AND_DESIGN   \n48                                   How To Draw Food     ART_AND_DESIGN   \n49                        Monster Truck Stunt 3D 2019  AUTO_AND_VEHICLES   \n\n    Rating  Reviews                Size     Installs  Type Price  \\\n0      4.1      159                 19M      10,000+  Free     0   \n1      3.9      967                 14M     500,000+  Free     0   \n2      4.7    87510                8.7M   5,000,000+  Free     0   \n3      4.5   215644                 25M  50,000,000+  Free     0   \n4      4.3      967                2.8M     100,000+  Free     0   \n5      4.4      167                5.6M      50,000+  Free     0   \n6      3.8      178                 19M      50,000+  Free     0   \n7      4.1    36815                 29M   1,000,000+  Free     0   \n8      4.4    13791                 33M   1,000,000+  Free     0   \n9      4.7      121                3.1M      10,000+  Free     0   \n10     4.4    13880                 28M   1,000,000+  Free     0   \n11     4.4     8788                 12M   1,000,000+  Free     0   \n12     4.2    44829                 20M  10,000,000+  Free     0   \n13     4.6     4326                 21M     100,000+  Free     0   \n14     4.4     1518                 37M     100,000+  Free     0   \n15     3.2       55                2.7M       5,000+  Free     0   \n16     4.7     3632                5.5M     500,000+  Free     0   \n17     4.5       27                 17M      10,000+  Free     0   \n18     4.3   194216                 39M   5,000,000+  Free     0   \n19     4.6   224399                 31M  10,000,000+  Free     0   \n20     4.0      450                 14M     100,000+  Free     0   \n21     4.1      654                 12M     100,000+  Free     0   \n22     4.7     7699                4.2M     500,000+  Free     0   \n23     NaN       61                7.0M     100,000+  Free     0   \n24     4.7      118                 23M      50,000+  Free     0   \n25     4.8      192                6.0M      10,000+  Free     0   \n26     4.7    20260                 25M     500,000+  Free     0   \n27     4.1      203                6.1M     100,000+  Free     0   \n28     3.9      136                4.6M      10,000+  Free     0   \n29     4.1      223                4.2M     100,000+  Free     0   \n30     4.2     1120                9.2M     100,000+  Free     0   \n31     4.1      227                5.2M      50,000+  Free     0   \n32     4.5     5035                 11M     100,000+  Free     0   \n33     4.2     1015                 11M     100,000+  Free     0   \n34     4.7      353                4.2M      10,000+  Free     0   \n35     3.8      564                9.2M     100,000+  Free     0   \n36     4.7     8145                 24M     500,000+  Free     0   \n37     4.1    36639  Varies with device   5,000,000+  Free     0   \n38     4.7      158                 11M      10,000+  Free     0   \n39     4.0      591                9.4M     500,000+  Free     0   \n40     4.2      117                 15M      10,000+  Free     0   \n41     4.5      176                 10M     100,000+  Free     0   \n42     4.4   295221  Varies with device  10,000,000+  Free     0   \n43     3.8     2206                1.2M     100,000+  Free     0   \n44     4.2       26                 12M      10,000+  Free     0   \n45     4.7   174531                 24M  10,000,000+  Free     0   \n46     4.6     1070                 26M     100,000+  Free     0   \n47     4.2       85                8.0M     100,000+  Free     0   \n48     4.3      845                7.9M     100,000+  Free     0   \n49     4.2      367                 25M     100,000+  Free     0   \n\n   Content Rating                           Genres        Last Updated  \\\n0        Everyone                     Art & Design     January 7, 2018   \n1        Everyone        Art & Design;Pretend Play    January 15, 2018   \n2        Everyone                     Art & Design      August 1, 2018   \n3            Teen                     Art & Design        June 8, 2018   \n4        Everyone          Art & Design;Creativity       June 20, 2018   \n5        Everyone                     Art & Design      March 26, 2017   \n6        Everyone                     Art & Design      April 26, 2018   \n7        Everyone                     Art & Design       June 14, 2018   \n8        Everyone                     Art & Design  September 20, 2017   \n9        Everyone          Art & Design;Creativity        July 3, 2018   \n10       Everyone                     Art & Design    October 27, 2017   \n11       Everyone                     Art & Design       July 31, 2018   \n12           Teen                     Art & Design       April 2, 2018   \n13       Everyone                     Art & Design       June 26, 2018   \n14       Everyone                     Art & Design      August 3, 2018   \n15       Everyone                     Art & Design        June 6, 2018   \n16       Everyone                     Art & Design       July 31, 2018   \n17       Everyone                     Art & Design    November 7, 2017   \n18       Everyone                     Art & Design      August 3, 2018   \n19       Everyone                     Art & Design       July 30, 2018   \n20       Everyone                     Art & Design      April 20, 2018   \n21       Everyone                     Art & Design      March 20, 2018   \n22   Everyone 10+                     Art & Design       July 12, 2018   \n23       Everyone  Art & Design;Action & Adventure       March 7, 2018   \n24       Everyone                     Art & Design        July 7, 2018   \n25       Everyone                     Art & Design      April 25, 2018   \n26       Everyone          Art & Design;Creativity    October 11, 2017   \n27       Everyone                     Art & Design      March 21, 2018   \n28       Everyone                     Art & Design       July 12, 2018   \n29       Everyone                     Art & Design     August 22, 2017   \n30       Everyone                     Art & Design       July 12, 2018   \n31       Everyone                     Art & Design        May 31, 2018   \n32       Everyone                     Art & Design       July 19, 2018   \n33       Everyone                     Art & Design     January 6, 2018   \n34           Teen                     Art & Design      April 27, 2018   \n35       Everyone                     Art & Design       July 11, 2018   \n36       Everyone          Art & Design;Creativity      August 2, 2018   \n37       Everyone                     Art & Design       July 14, 2018   \n38       Everyone                     Art & Design   November 29, 2017   \n39       Everyone                     Art & Design      March 31, 2018   \n40       Everyone                     Art & Design       July 20, 2018   \n41       Everyone                     Art & Design       April 2, 2018   \n42       Everyone                     Art & Design       July 30, 2018   \n43       Everyone          Art & Design;Creativity      April 15, 2018   \n44       Everyone                     Art & Design     January 3, 2018   \n45       Everyone                     Art & Design       July 31, 2018   \n46       Everyone                     Art & Design   November 14, 2017   \n47       Everyone                     Art & Design   December 17, 2017   \n48       Everyone                     Art & Design        May 28, 2018   \n49       Everyone                  Auto & Vehicles        May 10, 2018   \n\n           Current Ver         Android Ver  \n0                1.0.0        4.0.3 and up  \n1                2.0.0        4.0.3 and up  \n2                1.2.4        4.0.3 and up  \n3   Varies with device          4.2 and up  \n4                  1.1          4.4 and up  \n5                    1          2.3 and up  \n6                  1.1        4.0.3 and up  \n7             6.1.61.1          4.2 and up  \n8                2.9.2          3.0 and up  \n9                  2.8        4.0.3 and up  \n10               1.0.4          4.1 and up  \n11              1.0.15          4.0 and up  \n12                 3.8          4.1 and up  \n13               1.0.4          4.4 and up  \n14               1.2.3          2.3 and up  \n15                 NaN          4.2 and up  \n16                 3.1          4.1 and up  \n17                   1          2.3 and up  \n18               2.2.5        4.0.3 and up  \n19               5.5.4          4.1 and up  \n20                   4          4.1 and up  \n21                 1.1        4.0.3 and up  \n22             2.2.6.2        4.0.3 and up  \n23               1.0.0          4.1 and up  \n24               1.1.3          4.1 and up  \n25                 1.5          3.0 and up  \n26               1.0.8        4.0.3 and up  \n27                1.03        4.0.3 and up  \n28                   6          2.3 and up  \n29                   1          2.3 and up  \n30         6.7.12.2018        4.0.3 and up  \n31                 1.2          2.3 and up  \n32                 2.2          4.0 and up  \n33               1.1.0          4.1 and up  \n34                 1.6          4.1 and up  \n35                 2.1          4.1 and up  \n36               1.0.9          4.4 and up  \n37  Varies with device        2.3.3 and up  \n38                 1.3        4.0.3 and up  \n39                   1          4.0 and up  \n40               2.0.1        4.0.3 and up  \n41                   1        4.0.3 and up  \n42  Varies with device  Varies with device  \n43                1.46          4.1 and up  \n44               1.0.0          4.1 and up  \n45               1.6.1          4.1 and up  \n46                 1.6          4.1 and up  \n47               2.0.0          4.1 and up  \n48                   1          2.3 and up  \n49                   1        4.0.3 and up  ",
      "text/html": "<div>\n<style scoped>\n    .dataframe tbody tr th:only-of-type {\n        vertical-align: middle;\n    }\n\n    .dataframe tbody tr th {\n        vertical-align: top;\n    }\n\n    .dataframe thead th {\n        text-align: right;\n    }\n</style>\n<table border=\"1\" class=\"dataframe\">\n  <thead>\n    <tr style=\"text-align: right;\">\n      <th></th>\n      <th>App</th>\n      <th>Category</th>\n      <th>Rating</th>\n      <th>Reviews</th>\n      <th>Size</th>\n      <th>Installs</th>\n      <th>Type</th>\n      <th>Price</th>\n      <th>Content Rating</th>\n      <th>Genres</th>\n      <th>Last Updated</th>\n      <th>Current Ver</th>\n      <th>Android Ver</th>\n    </tr>\n  </thead>\n  <tbody>\n    <tr>\n      <th>0</th>\n      <td>Photo Editor &amp; Candy Camera &amp; Grid &amp; ScrapBook</td>\n      <td>ART_AND_DESIGN</td>\n      <td>4.1</td>\n      <td>159</td>\n      <td>19M</td>\n      <td>10,000+</td>\n      <td>Free</td>\n      <td>0</td>\n      <td>Everyone</td>\n      <td>Art &amp; Design</td>\n      <td>January 7, 2018</td>\n      <td>1.0.0</td>\n      <td>4.0.3 and up</td>\n    </tr>\n    <tr>\n      <th>1</th>\n      <td>Coloring book moana</td>\n      <td>ART_AND_DESIGN</td>\n      <td>3.9</td>\n      <td>967</td>\n      <td>14M</td>\n      <td>500,000+</td>\n      <td>Free</td>\n      <td>0</td>\n      <td>Everyone</td>\n      <td>Art &amp; Design;Pretend Play</td>\n      <td>January 15, 2018</td>\n      <td>2.0.0</td>\n      <td>4.0.3 and up</td>\n    </tr>\n    <tr>\n      <th>2</th>\n      <td>U Launcher Lite – FREE Live Cool Themes, Hide ...</td>\n      <td>ART_AND_DESIGN</td>\n      <td>4.7</td>\n      <td>87510</td>\n      <td>8.7M</td>\n      <td>5,000,000+</td>\n      <td>Free</td>\n      <td>0</td>\n      <td>Everyone</td>\n      <td>Art &amp; Design</td>\n      <td>August 1, 2018</td>\n      <td>1.2.4</td>\n      <td>4.0.3 and up</td>\n    </tr>\n    <tr>\n      <th>3</th>\n      <td>Sketch - Draw &amp; Paint</td>\n      <td>ART_AND_DESIGN</td>\n      <td>4.5</td>\n      <td>215644</td>\n      <td>25M</td>\n      <td>50,000,000+</td>\n      <td>Free</td>\n      <td>0</td>\n      <td>Teen</td>\n      <td>Art &amp; Design</td>\n      <td>June 8, 2018</td>\n      <td>Varies with device</td>\n      <td>4.2 and up</td>\n    </tr>\n    <tr>\n      <th>4</th>\n      <td>Pixel Draw - Number Art Coloring Book</td>\n      <td>ART_AND_DESIGN</td>\n      <td>4.3</td>\n      <td>967</td>\n      <td>2.8M</td>\n      <td>100,000+</td>\n      <td>Free</td>\n      <td>0</td>\n      <td>Everyone</td>\n      <td>Art &amp; Design;Creativity</td>\n      <td>June 20, 2018</td>\n      <td>1.1</td>\n      <td>4.4 and up</td>\n    </tr>\n    <tr>\n      <th>5</th>\n      <td>Paper flowers instructions</td>\n      <td>ART_AND_DESIGN</td>\n      <td>4.4</td>\n      <td>167</td>\n      <td>5.6M</td>\n      <td>50,000+</td>\n      <td>Free</td>\n      <td>0</td>\n      <td>Everyone</td>\n      <td>Art &amp; Design</td>\n      <td>March 26, 2017</td>\n      <td>1</td>\n      <td>2.3 and up</td>\n    </tr>\n    <tr>\n      <th>6</th>\n      <td>Smoke Effect Photo Maker - Smoke Editor</td>\n      <td>ART_AND_DESIGN</td>\n      <td>3.8</td>\n      <td>178</td>\n      <td>19M</td>\n      <td>50,000+</td>\n      <td>Free</td>\n      <td>0</td>\n      <td>Everyone</td>\n      <td>Art &amp; Design</td>\n      <td>April 26, 2018</td>\n      <td>1.1</td>\n      <td>4.0.3 and up</td>\n    </tr>\n    <tr>\n      <th>7</th>\n      <td>Infinite Painter</td>\n      <td>ART_AND_DESIGN</td>\n      <td>4.1</td>\n      <td>36815</td>\n      <td>29M</td>\n      <td>1,000,000+</td>\n      <td>Free</td>\n      <td>0</td>\n      <td>Everyone</td>\n      <td>Art &amp; Design</td>\n      <td>June 14, 2018</td>\n      <td>6.1.61.1</td>\n      <td>4.2 and up</td>\n    </tr>\n    <tr>\n      <th>8</th>\n      <td>Garden Coloring Book</td>\n      <td>ART_AND_DESIGN</td>\n      <td>4.4</td>\n      <td>13791</td>\n      <td>33M</td>\n      <td>1,000,000+</td>\n      <td>Free</td>\n      <td>0</td>\n      <td>Everyone</td>\n      <td>Art &amp; Design</td>\n      <td>September 20, 2017</td>\n      <td>2.9.2</td>\n      <td>3.0 and up</td>\n    </tr>\n    <tr>\n      <th>9</th>\n      <td>Kids Paint Free - Drawing Fun</td>\n      <td>ART_AND_DESIGN</td>\n      <td>4.7</td>\n      <td>121</td>\n      <td>3.1M</td>\n      <td>10,000+</td>\n      <td>Free</td>\n      <td>0</td>\n      <td>Everyone</td>\n      <td>Art &amp; Design;Creativity</td>\n      <td>July 3, 2018</td>\n      <td>2.8</td>\n      <td>4.0.3 and up</td>\n    </tr>\n    <tr>\n      <th>10</th>\n      <td>Text on Photo - Fonteee</td>\n      <td>ART_AND_DESIGN</td>\n      <td>4.4</td>\n      <td>13880</td>\n      <td>28M</td>\n      <td>1,000,000+</td>\n      <td>Free</td>\n      <td>0</td>\n      <td>Everyone</td>\n      <td>Art &amp; Design</td>\n      <td>October 27, 2017</td>\n      <td>1.0.4</td>\n      <td>4.1 and up</td>\n    </tr>\n    <tr>\n      <th>11</th>\n      <td>Name Art Photo Editor - Focus n Filters</td>\n      <td>ART_AND_DESIGN</td>\n      <td>4.4</td>\n      <td>8788</td>\n      <td>12M</td>\n      <td>1,000,000+</td>\n      <td>Free</td>\n      <td>0</td>\n      <td>Everyone</td>\n      <td>Art &amp; Design</td>\n      <td>July 31, 2018</td>\n      <td>1.0.15</td>\n      <td>4.0 and up</td>\n    </tr>\n    <tr>\n      <th>12</th>\n      <td>Tattoo Name On My Photo Editor</td>\n      <td>ART_AND_DESIGN</td>\n      <td>4.2</td>\n      <td>44829</td>\n      <td>20M</td>\n      <td>10,000,000+</td>\n      <td>Free</td>\n      <td>0</td>\n      <td>Teen</td>\n      <td>Art &amp; Design</td>\n      <td>April 2, 2018</td>\n      <td>3.8</td>\n      <td>4.1 and up</td>\n    </tr>\n    <tr>\n      <th>13</th>\n      <td>Mandala Coloring Book</td>\n      <td>ART_AND_DESIGN</td>\n      <td>4.6</td>\n      <td>4326</td>\n      <td>21M</td>\n      <td>100,000+</td>\n      <td>Free</td>\n      <td>0</td>\n      <td>Everyone</td>\n      <td>Art &amp; Design</td>\n      <td>June 26, 2018</td>\n      <td>1.0.4</td>\n      <td>4.4 and up</td>\n    </tr>\n    <tr>\n      <th>14</th>\n      <td>3D Color Pixel by Number - Sandbox Art Coloring</td>\n      <td>ART_AND_DESIGN</td>\n      <td>4.4</td>\n      <td>1518</td>\n      <td>37M</td>\n      <td>100,000+</td>\n      <td>Free</td>\n      <td>0</td>\n      <td>Everyone</td>\n      <td>Art &amp; Design</td>\n      <td>August 3, 2018</td>\n      <td>1.2.3</td>\n      <td>2.3 and up</td>\n    </tr>\n    <tr>\n      <th>15</th>\n      <td>Learn To Draw Kawaii Characters</td>\n      <td>ART_AND_DESIGN</td>\n      <td>3.2</td>\n      <td>55</td>\n      <td>2.7M</td>\n      <td>5,000+</td>\n      <td>Free</td>\n      <td>0</td>\n      <td>Everyone</td>\n      <td>Art &amp; Design</td>\n      <td>June 6, 2018</td>\n      <td>NaN</td>\n      <td>4.2 and up</td>\n    </tr>\n    <tr>\n      <th>16</th>\n      <td>Photo Designer - Write your name with shapes</td>\n      <td>ART_AND_DESIGN</td>\n      <td>4.7</td>\n      <td>3632</td>\n      <td>5.5M</td>\n      <td>500,000+</td>\n      <td>Free</td>\n      <td>0</td>\n      <td>Everyone</td>\n      <td>Art &amp; Design</td>\n      <td>July 31, 2018</td>\n      <td>3.1</td>\n      <td>4.1 and up</td>\n    </tr>\n    <tr>\n      <th>17</th>\n      <td>350 Diy Room Decor Ideas</td>\n      <td>ART_AND_DESIGN</td>\n      <td>4.5</td>\n      <td>27</td>\n      <td>17M</td>\n      <td>10,000+</td>\n      <td>Free</td>\n      <td>0</td>\n      <td>Everyone</td>\n      <td>Art &amp; Design</td>\n      <td>November 7, 2017</td>\n      <td>1</td>\n      <td>2.3 and up</td>\n    </tr>\n    <tr>\n      <th>18</th>\n      <td>FlipaClip - Cartoon animation</td>\n      <td>ART_AND_DESIGN</td>\n      <td>4.3</td>\n      <td>194216</td>\n      <td>39M</td>\n      <td>5,000,000+</td>\n      <td>Free</td>\n      <td>0</td>\n      <td>Everyone</td>\n      <td>Art &amp; Design</td>\n      <td>August 3, 2018</td>\n      <td>2.2.5</td>\n      <td>4.0.3 and up</td>\n    </tr>\n    <tr>\n      <th>19</th>\n      <td>ibis Paint X</td>\n      <td>ART_AND_DESIGN</td>\n      <td>4.6</td>\n      <td>224399</td>\n      <td>31M</td>\n      <td>10,000,000+</td>\n      <td>Free</td>\n      <td>0</td>\n      <td>Everyone</td>\n      <td>Art &amp; Design</td>\n      <td>July 30, 2018</td>\n      <td>5.5.4</td>\n      <td>4.1 and up</td>\n    </tr>\n    <tr>\n      <th>20</th>\n      <td>Logo Maker - Small Business</td>\n      <td>ART_AND_DESIGN</td>\n      <td>4.0</td>\n      <td>450</td>\n      <td>14M</td>\n      <td>100,000+</td>\n      <td>Free</td>\n      <td>0</td>\n      <td>Everyone</td>\n      <td>Art &amp; Design</td>\n      <td>April 20, 2018</td>\n      <td>4</td>\n      <td>4.1 and up</td>\n    </tr>\n    <tr>\n      <th>21</th>\n      <td>Boys Photo Editor - Six Pack &amp; Men's Suit</td>\n      <td>ART_AND_DESIGN</td>\n      <td>4.1</td>\n      <td>654</td>\n      <td>12M</td>\n      <td>100,000+</td>\n      <td>Free</td>\n      <td>0</td>\n      <td>Everyone</td>\n      <td>Art &amp; Design</td>\n      <td>March 20, 2018</td>\n      <td>1.1</td>\n      <td>4.0.3 and up</td>\n    </tr>\n    <tr>\n      <th>22</th>\n      <td>Superheroes Wallpapers | 4K Backgrounds</td>\n      <td>ART_AND_DESIGN</td>\n      <td>4.7</td>\n      <td>7699</td>\n      <td>4.2M</td>\n      <td>500,000+</td>\n      <td>Free</td>\n      <td>0</td>\n      <td>Everyone 10+</td>\n      <td>Art &amp; Design</td>\n      <td>July 12, 2018</td>\n      <td>2.2.6.2</td>\n      <td>4.0.3 and up</td>\n    </tr>\n    <tr>\n      <th>23</th>\n      <td>Mcqueen Coloring pages</td>\n      <td>ART_AND_DESIGN</td>\n      <td>NaN</td>\n      <td>61</td>\n      <td>7.0M</td>\n      <td>100,000+</td>\n      <td>Free</td>\n      <td>0</td>\n      <td>Everyone</td>\n      <td>Art &amp; Design;Action &amp; Adventure</td>\n      <td>March 7, 2018</td>\n      <td>1.0.0</td>\n      <td>4.1 and up</td>\n    </tr>\n    <tr>\n      <th>24</th>\n      <td>HD Mickey Minnie Wallpapers</td>\n      <td>ART_AND_DESIGN</td>\n      <td>4.7</td>\n      <td>118</td>\n      <td>23M</td>\n      <td>50,000+</td>\n      <td>Free</td>\n      <td>0</td>\n      <td>Everyone</td>\n      <td>Art &amp; Design</td>\n      <td>July 7, 2018</td>\n      <td>1.1.3</td>\n      <td>4.1 and up</td>\n    </tr>\n    <tr>\n      <th>25</th>\n      <td>Harley Quinn wallpapers HD</td>\n      <td>ART_AND_DESIGN</td>\n      <td>4.8</td>\n      <td>192</td>\n      <td>6.0M</td>\n      <td>10,000+</td>\n      <td>Free</td>\n      <td>0</td>\n      <td>Everyone</td>\n      <td>Art &amp; Design</td>\n      <td>April 25, 2018</td>\n      <td>1.5</td>\n      <td>3.0 and up</td>\n    </tr>\n    <tr>\n      <th>26</th>\n      <td>Colorfit - Drawing &amp; Coloring</td>\n      <td>ART_AND_DESIGN</td>\n      <td>4.7</td>\n      <td>20260</td>\n      <td>25M</td>\n      <td>500,000+</td>\n      <td>Free</td>\n      <td>0</td>\n      <td>Everyone</td>\n      <td>Art &amp; Design;Creativity</td>\n      <td>October 11, 2017</td>\n      <td>1.0.8</td>\n      <td>4.0.3 and up</td>\n    </tr>\n    <tr>\n      <th>27</th>\n      <td>Animated Photo Editor</td>\n      <td>ART_AND_DESIGN</td>\n      <td>4.1</td>\n      <td>203</td>\n      <td>6.1M</td>\n      <td>100,000+</td>\n      <td>Free</td>\n      <td>0</td>\n      <td>Everyone</td>\n      <td>Art &amp; Design</td>\n      <td>March 21, 2018</td>\n      <td>1.03</td>\n      <td>4.0.3 and up</td>\n    </tr>\n    <tr>\n      <th>28</th>\n      <td>Pencil Sketch Drawing</td>\n      <td>ART_AND_DESIGN</td>\n      <td>3.9</td>\n      <td>136</td>\n      <td>4.6M</td>\n      <td>10,000+</td>\n      <td>Free</td>\n      <td>0</td>\n      <td>Everyone</td>\n      <td>Art &amp; Design</td>\n      <td>July 12, 2018</td>\n      <td>6</td>\n      <td>2.3 and up</td>\n    </tr>\n    <tr>\n      <th>29</th>\n      <td>Easy Realistic Drawing Tutorial</td>\n      <td>ART_AND_DESIGN</td>\n      <td>4.1</td>\n      <td>223</td>\n      <td>4.2M</td>\n      <td>100,000+</td>\n      <td>Free</td>\n      <td>0</td>\n      <td>Everyone</td>\n      <td>Art &amp; Design</td>\n      <td>August 22, 2017</td>\n      <td>1</td>\n      <td>2.3 and up</td>\n    </tr>\n    <tr>\n      <th>30</th>\n      <td>Pink Silver Bow Keyboard Theme</td>\n      <td>ART_AND_DESIGN</td>\n      <td>4.2</td>\n      <td>1120</td>\n      <td>9.2M</td>\n      <td>100,000+</td>\n      <td>Free</td>\n      <td>0</td>\n      <td>Everyone</td>\n      <td>Art &amp; Design</td>\n      <td>July 12, 2018</td>\n      <td>6.7.12.2018</td>\n      <td>4.0.3 and up</td>\n    </tr>\n    <tr>\n      <th>31</th>\n      <td>Art Drawing Ideas</td>\n      <td>ART_AND_DESIGN</td>\n      <td>4.1</td>\n      <td>227</td>\n      <td>5.2M</td>\n      <td>50,000+</td>\n      <td>Free</td>\n      <td>0</td>\n      <td>Everyone</td>\n      <td>Art &amp; Design</td>\n      <td>May 31, 2018</td>\n      <td>1.2</td>\n      <td>2.3 and up</td>\n    </tr>\n    <tr>\n      <th>32</th>\n      <td>Anime Manga Coloring Book</td>\n      <td>ART_AND_DESIGN</td>\n      <td>4.5</td>\n      <td>5035</td>\n      <td>11M</td>\n      <td>100,000+</td>\n      <td>Free</td>\n      <td>0</td>\n      <td>Everyone</td>\n      <td>Art &amp; Design</td>\n      <td>July 19, 2018</td>\n      <td>2.2</td>\n      <td>4.0 and up</td>\n    </tr>\n    <tr>\n      <th>33</th>\n      <td>Easy Origami Ideas</td>\n      <td>ART_AND_DESIGN</td>\n      <td>4.2</td>\n      <td>1015</td>\n      <td>11M</td>\n      <td>100,000+</td>\n      <td>Free</td>\n      <td>0</td>\n      <td>Everyone</td>\n      <td>Art &amp; Design</td>\n      <td>January 6, 2018</td>\n      <td>1.1.0</td>\n      <td>4.1 and up</td>\n    </tr>\n    <tr>\n      <th>34</th>\n      <td>I Creative Idea</td>\n      <td>ART_AND_DESIGN</td>\n      <td>4.7</td>\n      <td>353</td>\n      <td>4.2M</td>\n      <td>10,000+</td>\n      <td>Free</td>\n      <td>0</td>\n      <td>Teen</td>\n      <td>Art &amp; Design</td>\n      <td>April 27, 2018</td>\n      <td>1.6</td>\n      <td>4.1 and up</td>\n    </tr>\n    <tr>\n      <th>35</th>\n      <td>How to draw Ladybug and Cat Noir</td>\n      <td>ART_AND_DESIGN</td>\n      <td>3.8</td>\n      <td>564</td>\n      <td>9.2M</td>\n      <td>100,000+</td>\n      <td>Free</td>\n      <td>0</td>\n      <td>Everyone</td>\n      <td>Art &amp; Design</td>\n      <td>July 11, 2018</td>\n      <td>2.1</td>\n      <td>4.1 and up</td>\n    </tr>\n    <tr>\n      <th>36</th>\n      <td>UNICORN - Color By Number &amp; Pixel Art Coloring</td>\n      <td>ART_AND_DESIGN</td>\n      <td>4.7</td>\n      <td>8145</td>\n      <td>24M</td>\n      <td>500,000+</td>\n      <td>Free</td>\n      <td>0</td>\n      <td>Everyone</td>\n      <td>Art &amp; Design;Creativity</td>\n      <td>August 2, 2018</td>\n      <td>1.0.9</td>\n      <td>4.4 and up</td>\n    </tr>\n    <tr>\n      <th>37</th>\n      <td>Floor Plan Creator</td>\n      <td>ART_AND_DESIGN</td>\n      <td>4.1</td>\n      <td>36639</td>\n      <td>Varies with device</td>\n      <td>5,000,000+</td>\n      <td>Free</td>\n      <td>0</td>\n      <td>Everyone</td>\n      <td>Art &amp; Design</td>\n      <td>July 14, 2018</td>\n      <td>Varies with device</td>\n      <td>2.3.3 and up</td>\n    </tr>\n    <tr>\n      <th>38</th>\n      <td>PIP Camera - PIP Collage Maker</td>\n      <td>ART_AND_DESIGN</td>\n      <td>4.7</td>\n      <td>158</td>\n      <td>11M</td>\n      <td>10,000+</td>\n      <td>Free</td>\n      <td>0</td>\n      <td>Everyone</td>\n      <td>Art &amp; Design</td>\n      <td>November 29, 2017</td>\n      <td>1.3</td>\n      <td>4.0.3 and up</td>\n    </tr>\n    <tr>\n      <th>39</th>\n      <td>How To Color Disney Princess - Coloring Pages</td>\n      <td>ART_AND_DESIGN</td>\n      <td>4.0</td>\n      <td>591</td>\n      <td>9.4M</td>\n      <td>500,000+</td>\n      <td>Free</td>\n      <td>0</td>\n      <td>Everyone</td>\n      <td>Art &amp; Design</td>\n      <td>March 31, 2018</td>\n      <td>1</td>\n      <td>4.0 and up</td>\n    </tr>\n    <tr>\n      <th>40</th>\n      <td>Drawing Clothes Fashion Ideas</td>\n      <td>ART_AND_DESIGN</td>\n      <td>4.2</td>\n      <td>117</td>\n      <td>15M</td>\n      <td>10,000+</td>\n      <td>Free</td>\n      <td>0</td>\n      <td>Everyone</td>\n      <td>Art &amp; Design</td>\n      <td>July 20, 2018</td>\n      <td>2.0.1</td>\n      <td>4.0.3 and up</td>\n    </tr>\n    <tr>\n      <th>41</th>\n      <td>Sad Poetry Photo Frames 2018</td>\n      <td>ART_AND_DESIGN</td>\n      <td>4.5</td>\n      <td>176</td>\n      <td>10M</td>\n      <td>100,000+</td>\n      <td>Free</td>\n      <td>0</td>\n      <td>Everyone</td>\n      <td>Art &amp; Design</td>\n      <td>April 2, 2018</td>\n      <td>1</td>\n      <td>4.0.3 and up</td>\n    </tr>\n    <tr>\n      <th>42</th>\n      <td>Textgram - write on photos</td>\n      <td>ART_AND_DESIGN</td>\n      <td>4.4</td>\n      <td>295221</td>\n      <td>Varies with device</td>\n      <td>10,000,000+</td>\n      <td>Free</td>\n      <td>0</td>\n      <td>Everyone</td>\n      <td>Art &amp; Design</td>\n      <td>July 30, 2018</td>\n      <td>Varies with device</td>\n      <td>Varies with device</td>\n    </tr>\n    <tr>\n      <th>43</th>\n      <td>Paint Splash!</td>\n      <td>ART_AND_DESIGN</td>\n      <td>3.8</td>\n      <td>2206</td>\n      <td>1.2M</td>\n      <td>100,000+</td>\n      <td>Free</td>\n      <td>0</td>\n      <td>Everyone</td>\n      <td>Art &amp; Design;Creativity</td>\n      <td>April 15, 2018</td>\n      <td>1.46</td>\n      <td>4.1 and up</td>\n    </tr>\n    <tr>\n      <th>44</th>\n      <td>Popsicle Sticks and Similar DIY Craft Ideas</td>\n      <td>ART_AND_DESIGN</td>\n      <td>4.2</td>\n      <td>26</td>\n      <td>12M</td>\n      <td>10,000+</td>\n      <td>Free</td>\n      <td>0</td>\n      <td>Everyone</td>\n      <td>Art &amp; Design</td>\n      <td>January 3, 2018</td>\n      <td>1.0.0</td>\n      <td>4.1 and up</td>\n    </tr>\n    <tr>\n      <th>45</th>\n      <td>Canva: Poster, banner, card maker &amp; graphic de...</td>\n      <td>ART_AND_DESIGN</td>\n      <td>4.7</td>\n      <td>174531</td>\n      <td>24M</td>\n      <td>10,000,000+</td>\n      <td>Free</td>\n      <td>0</td>\n      <td>Everyone</td>\n      <td>Art &amp; Design</td>\n      <td>July 31, 2018</td>\n      <td>1.6.1</td>\n      <td>4.1 and up</td>\n    </tr>\n    <tr>\n      <th>46</th>\n      <td>Install images with music to make video withou...</td>\n      <td>ART_AND_DESIGN</td>\n      <td>4.6</td>\n      <td>1070</td>\n      <td>26M</td>\n      <td>100,000+</td>\n      <td>Free</td>\n      <td>0</td>\n      <td>Everyone</td>\n      <td>Art &amp; Design</td>\n      <td>November 14, 2017</td>\n      <td>1.6</td>\n      <td>4.1 and up</td>\n    </tr>\n    <tr>\n      <th>47</th>\n      <td>Little Teddy Bear Colouring Book Game</td>\n      <td>ART_AND_DESIGN</td>\n      <td>4.2</td>\n      <td>85</td>\n      <td>8.0M</td>\n      <td>100,000+</td>\n      <td>Free</td>\n      <td>0</td>\n      <td>Everyone</td>\n      <td>Art &amp; Design</td>\n      <td>December 17, 2017</td>\n      <td>2.0.0</td>\n      <td>4.1 and up</td>\n    </tr>\n    <tr>\n      <th>48</th>\n      <td>How To Draw Food</td>\n      <td>ART_AND_DESIGN</td>\n      <td>4.3</td>\n      <td>845</td>\n      <td>7.9M</td>\n      <td>100,000+</td>\n      <td>Free</td>\n      <td>0</td>\n      <td>Everyone</td>\n      <td>Art &amp; Design</td>\n      <td>May 28, 2018</td>\n      <td>1</td>\n      <td>2.3 and up</td>\n    </tr>\n    <tr>\n      <th>49</th>\n      <td>Monster Truck Stunt 3D 2019</td>\n      <td>AUTO_AND_VEHICLES</td>\n      <td>4.2</td>\n      <td>367</td>\n      <td>25M</td>\n      <td>100,000+</td>\n      <td>Free</td>\n      <td>0</td>\n      <td>Everyone</td>\n      <td>Auto &amp; Vehicles</td>\n      <td>May 10, 2018</td>\n      <td>1</td>\n      <td>4.0.3 and up</td>\n    </tr>\n  </tbody>\n</table>\n</div>"
     },
     "execution_count": 94,
     "metadata": {},
     "output_type": "execute_result"
    }
   ],
   "source": [
    "apps = pd.read_csv('../googleplaystore.csv')\n",
    "apps.head(50)"
   ],
   "metadata": {
    "collapsed": false,
    "ExecuteTime": {
     "start_time": "2023-08-24T20:18:34.417165Z",
     "end_time": "2023-08-24T20:18:35.263187Z"
    }
   }
  },
  {
   "cell_type": "markdown",
   "source": [],
   "metadata": {
    "collapsed": false
   }
  },
  {
   "cell_type": "markdown",
   "source": [
    "Let's start with converting Data Types:\n",
    "* Convert the \"Reviews\" column to numeric (integer) data type.\n",
    "* Convert the \"Size\" column to a numeric format (e.g., megabytes) for easier handling.\n",
    "* Convert the \"Installs\" column to numeric data type, removing the '+' and ',' characters.\n",
    "* Convert the \"Price\" column to numeric, removing the '$' sign.\n",
    "* Convert the \"Last Updated\" column to a datetime data type."
   ],
   "metadata": {
    "collapsed": false
   }
  },
  {
   "cell_type": "code",
   "execution_count": 95,
   "outputs": [
    {
     "name": "stdout",
     "output_type": "stream",
     "text": [
      "<class 'pandas.core.frame.DataFrame'>\n",
      "RangeIndex: 10840 entries, 0 to 10839\n",
      "Data columns (total 13 columns):\n",
      " #   Column          Non-Null Count  Dtype         \n",
      "---  ------          --------------  -----         \n",
      " 0   App             10840 non-null  object        \n",
      " 1   Category        10840 non-null  object        \n",
      " 2   Rating          9366 non-null   float64       \n",
      " 3   Reviews         10840 non-null  int64         \n",
      " 4   Size            8829 non-null   float64       \n",
      " 5   Installs        10840 non-null  int64         \n",
      " 6   Type            10839 non-null  object        \n",
      " 7   Price           10840 non-null  float64       \n",
      " 8   Content Rating  10840 non-null  object        \n",
      " 9   Genres          10840 non-null  object        \n",
      " 10  Last Updated    10840 non-null  datetime64[ns]\n",
      " 11  Current Ver     10832 non-null  object        \n",
      " 12  Android Ver     10838 non-null  object        \n",
      "dtypes: datetime64[ns](1), float64(3), int64(2), object(7)\n",
      "memory usage: 1.1+ MB\n"
     ]
    }
   ],
   "source": [
    "apps = pd.read_csv('../googleplaystore.csv')\n",
    "apps['Reviews'] = pd.to_numeric(apps['Reviews'], errors='coerce')\n",
    "apps['Size'] = apps['Size'].apply(lambda x: float(x.replace('k','')) / 1024 if 'k' in str(x) else x)  # Convert k to M\n",
    "apps['Size'] = apps['Size'].apply(lambda x: None if x == 'Varies with device' else x) # Handles \"Varies with device\" values\n",
    "apps['Size'] = apps['Size'].str.replace('M', '').str.replace('k', '').astype(float)\n",
    "apps['Installs'] = apps['Installs'].str.replace('+', '').str.replace(',', '').astype('int64')\n",
    "apps['Price'] = apps['Price'].str.replace('$', '').astype(float)\n",
    "apps['Last Updated'] = pd.to_datetime(apps['Last Updated'])\n",
    "apps.info()"
   ],
   "metadata": {
    "collapsed": false,
    "ExecuteTime": {
     "start_time": "2023-08-24T20:18:34.528490Z",
     "end_time": "2023-08-24T20:18:35.263187Z"
    }
   }
  },
  {
   "cell_type": "markdown",
   "source": [
    "Some of the most popular apps are represented more than once but with the same data. We will remove the duplicates since these might affect the results of our model."
   ],
   "metadata": {
    "collapsed": false
   }
  },
  {
   "cell_type": "code",
   "execution_count": 96,
   "outputs": [
    {
     "name": "stdout",
     "output_type": "stream",
     "text": [
      "Shape before removing duplicates (10840, 13)\n",
      "Shape after removing duplicates (9659, 13)\n"
     ]
    }
   ],
   "source": [
    "print(f\"Shape before removing duplicates {pd.DataFrame(apps).shape}\")\n",
    "apps = apps.drop_duplicates(subset='App', keep='first')\n",
    "print(f\"Shape after removing duplicates {pd.DataFrame(apps).shape}\")"
   ],
   "metadata": {
    "collapsed": false,
    "ExecuteTime": {
     "start_time": "2023-08-24T20:18:34.652725Z",
     "end_time": "2023-08-24T20:18:35.263721Z"
    }
   }
  },
  {
   "cell_type": "markdown",
   "source": [
    "Removing outliers in the dataset.\n",
    "To detect outliers I will use the z-score approach. This code removes all rows with a column value more than 3 standard deviations away from the mean."
   ],
   "metadata": {
    "collapsed": false
   }
  },
  {
   "cell_type": "code",
   "execution_count": 97,
   "outputs": [
    {
     "name": "stdout",
     "output_type": "stream",
     "text": [
      "Shape before removing outliers (9659, 13)\n",
      "Shape after removing outliers (9636, 13)\n"
     ]
    }
   ],
   "source": [
    "print(f\"Shape before removing outliers {pd.DataFrame(apps).shape}\")\n",
    "\n",
    "def remove_outliers(df,columns,n_std):\n",
    "    for col in columns:\n",
    "\n",
    "        mean = df[col].mean()\n",
    "        sd = df[col].std()\n",
    "\n",
    "        df = df[(df[col] <= mean+(n_std*sd))]\n",
    "\n",
    "    return df\n",
    "\n",
    "apps = remove_outliers(apps, ['Price'], 3)\n",
    "\n",
    "print(f\"Shape after removing outliers {pd.DataFrame(apps).shape}\")\n"
   ],
   "metadata": {
    "collapsed": false,
    "ExecuteTime": {
     "start_time": "2023-08-24T20:18:34.704864Z",
     "end_time": "2023-08-24T20:18:35.264255Z"
    }
   }
  },
  {
   "cell_type": "markdown",
   "source": [
    "Now we check for NA values"
   ],
   "metadata": {
    "collapsed": false
   }
  },
  {
   "cell_type": "code",
   "execution_count": 98,
   "outputs": [
    {
     "data": {
      "text/plain": "                # of missing values\nApp                               0\nCategory                          0\nRating                         1456\nReviews                           0\nSize                           1540\nInstalls                          0\nType                              1\nPrice                             0\nContent Rating                    0\nGenres                            0\nLast Updated                      0\nCurrent Ver                       8\nAndroid Ver                       2",
      "text/html": "<div>\n<style scoped>\n    .dataframe tbody tr th:only-of-type {\n        vertical-align: middle;\n    }\n\n    .dataframe tbody tr th {\n        vertical-align: top;\n    }\n\n    .dataframe thead th {\n        text-align: right;\n    }\n</style>\n<table border=\"1\" class=\"dataframe\">\n  <thead>\n    <tr style=\"text-align: right;\">\n      <th></th>\n      <th># of missing values</th>\n    </tr>\n  </thead>\n  <tbody>\n    <tr>\n      <th>App</th>\n      <td>0</td>\n    </tr>\n    <tr>\n      <th>Category</th>\n      <td>0</td>\n    </tr>\n    <tr>\n      <th>Rating</th>\n      <td>1456</td>\n    </tr>\n    <tr>\n      <th>Reviews</th>\n      <td>0</td>\n    </tr>\n    <tr>\n      <th>Size</th>\n      <td>1540</td>\n    </tr>\n    <tr>\n      <th>Installs</th>\n      <td>0</td>\n    </tr>\n    <tr>\n      <th>Type</th>\n      <td>1</td>\n    </tr>\n    <tr>\n      <th>Price</th>\n      <td>0</td>\n    </tr>\n    <tr>\n      <th>Content Rating</th>\n      <td>0</td>\n    </tr>\n    <tr>\n      <th>Genres</th>\n      <td>0</td>\n    </tr>\n    <tr>\n      <th>Last Updated</th>\n      <td>0</td>\n    </tr>\n    <tr>\n      <th>Current Ver</th>\n      <td>8</td>\n    </tr>\n    <tr>\n      <th>Android Ver</th>\n      <td>2</td>\n    </tr>\n  </tbody>\n</table>\n</div>"
     },
     "execution_count": 98,
     "metadata": {},
     "output_type": "execute_result"
    }
   ],
   "source": [
    "pd.DataFrame(apps.isna().sum(), columns=['# of missing values'])"
   ],
   "metadata": {
    "collapsed": false,
    "ExecuteTime": {
     "start_time": "2023-08-24T20:18:34.778651Z",
     "end_time": "2023-08-24T20:18:35.265331Z"
    }
   }
  },
  {
   "cell_type": "markdown",
   "source": [
    "The NA values of Size are expected, these are values that varies per device type. We convert them to 0 here. The rows with NA values for rating will be deleted, since this will be an important parameter for our model."
   ],
   "metadata": {
    "collapsed": false
   }
  },
  {
   "cell_type": "code",
   "execution_count": 99,
   "outputs": [
    {
     "data": {
      "text/plain": "(8180, 13)"
     },
     "execution_count": 99,
     "metadata": {},
     "output_type": "execute_result"
    }
   ],
   "source": [
    "apps = apps.dropna(subset=['Rating'])\n",
    "apps['Size'] = apps['Size'].fillna(0)\n",
    "\n",
    "apps.shape"
   ],
   "metadata": {
    "collapsed": false,
    "ExecuteTime": {
     "start_time": "2023-08-24T20:18:34.862217Z",
     "end_time": "2023-08-24T20:18:35.265864Z"
    }
   }
  },
  {
   "cell_type": "markdown",
   "source": [],
   "metadata": {
    "collapsed": false
   }
  },
  {
   "cell_type": "markdown",
   "source": [
    "#### 1.2.2 Feature Engineering:\n",
    "create new features from the existing features. Sometimes it better to create new features than to use the existing features. Also think about how to encode categorical features, normalize features, etc."
   ],
   "metadata": {
    "collapsed": false
   }
  },
  {
   "cell_type": "code",
   "execution_count": 100,
   "outputs": [],
   "source": [
    "# First we transform the categories, content ratings and android versions into numeric labels\n",
    "encoder = LabelEncoder()\n",
    "apps['Category_Encoded'] = encoder.fit_transform(apps['Category'])\n",
    "apps['Content Rating_Encoded'] = encoder.fit_transform(apps['Content Rating'])\n",
    "apps['Android Ver_Encoded'] = encoder.fit_transform(apps['Android Ver'])"
   ],
   "metadata": {
    "collapsed": false,
    "ExecuteTime": {
     "start_time": "2023-08-24T20:18:34.987256Z",
     "end_time": "2023-08-24T20:18:35.277892Z"
    }
   }
  },
  {
   "cell_type": "code",
   "execution_count": 101,
   "outputs": [],
   "source": [
    "# We also make a new column 'time since last update' out of the existing 'last updated'\n",
    "\n",
    "current_date = pd.to_datetime('2019-01-01')  # All data is from before 2019\n",
    "apps['Time Since Last Update'] = (current_date - apps['Last Updated']).dt.days\n"
   ],
   "metadata": {
    "collapsed": false,
    "ExecuteTime": {
     "start_time": "2023-08-24T20:18:35.012991Z",
     "end_time": "2023-08-24T20:18:35.278429Z"
    }
   }
  },
  {
   "cell_type": "code",
   "execution_count": 102,
   "outputs": [],
   "source": [
    "# We cant work with the App name column, however I think it might be useful to include the length of the app name\n",
    "apps['App_Name_Length'] = apps['App'].apply(len)"
   ],
   "metadata": {
    "collapsed": false,
    "ExecuteTime": {
     "start_time": "2023-08-24T20:18:35.028397Z",
     "end_time": "2023-08-24T20:18:35.278429Z"
    }
   }
  },
  {
   "cell_type": "code",
   "execution_count": 103,
   "outputs": [],
   "source": [
    "# we will also categorize the prices of the apps into \"FREE\", \"CHEAP\" and \"EXPENSIVE\"\n",
    "def categorize_price(price):\n",
    "    if price == 0:\n",
    "        return \"FREE\"\n",
    "    elif 0 < price < 5.0:\n",
    "        return \"CHEAP\"\n",
    "    else:\n",
    "        return \"EXPENSIVE\"\n",
    "\n",
    "# Create the 'Price_Category_Labels' column\n",
    "apps['Price_Category_Labels'] = apps['Price'].apply(categorize_price)\n",
    "\n",
    "# Create the 'Price_Category_Encoded' column\n",
    "apps['Price_Category_Encoded'] = apps['Price_Category_Labels'].map({'FREE': 0, 'CHEAP': 1, 'EXPENSIVE': 2})"
   ],
   "metadata": {
    "collapsed": false,
    "ExecuteTime": {
     "start_time": "2023-08-24T20:18:35.043588Z",
     "end_time": "2023-08-24T20:18:35.278963Z"
    }
   }
  },
  {
   "cell_type": "code",
   "execution_count": 104,
   "outputs": [
    {
     "data": {
      "text/plain": "Rating                    1.000000\nReviews                   0.055002\nSize                      0.037261\nInstalls                  0.040026\nPrice                     0.021718\nCategory_Encoded         -0.041309\nContent Rating_Encoded    0.027344\nAndroid Ver_Encoded       0.062483\nTime Since Last Update   -0.130443\nApp_Name_Length           0.143748\nPrice_Category_Encoded    0.043856\nName: Rating, dtype: float64"
     },
     "execution_count": 104,
     "metadata": {},
     "output_type": "execute_result"
    }
   ],
   "source": [
    "# The column we will work with is Installs. I want to know how much the correlations are between Installs and the other numeric columns.\n",
    "\n",
    "apps.corr(numeric_only=True, method='pearson')['Rating']\n"
   ],
   "metadata": {
    "collapsed": false,
    "ExecuteTime": {
     "start_time": "2023-08-24T20:18:35.059144Z",
     "end_time": "2023-08-24T20:18:35.278963Z"
    }
   }
  },
  {
   "cell_type": "code",
   "execution_count": 105,
   "outputs": [
    {
     "data": {
      "text/plain": "       Rating  Reviews  Size  Installs  Category_Encoded  \\\n0         4.1      159  19.0     10000                 0   \n1         3.9      967  14.0    500000                 0   \n2         4.7    87510   8.7   5000000                 0   \n3         4.5   215644  25.0  50000000                 0   \n4         4.3      967   2.8    100000                 0   \n...       ...      ...   ...       ...               ...   \n10833     4.0        7   2.6       500                11   \n10835     4.5       38  53.0      5000                11   \n10836     5.0        4   3.6       100                11   \n10838     4.5      114   0.0      1000                 3   \n10839     4.5   398307  19.0  10000000                18   \n\n       Content Rating_Encoded  Android Ver_Encoded  Time Since Last Update  \\\n0                           1                   14                     359   \n1                           1                   14                     351   \n2                           1                   14                     153   \n3                           4                   17                     207   \n4                           1                   19                     195   \n...                       ...                  ...                     ...   \n10833                       1                   16                     562   \n10835                       1                   16                     525   \n10836                       1                   16                     179   \n10838                       3                   30                    1443   \n10839                       1                   30                     160   \n\n       App_Name_Length  Price_Category_Encoded  \n0                   46                       0  \n1                   19                       0  \n2                   50                       0  \n3                   21                       0  \n4                   37                       0  \n...                ...                     ...  \n10833               13                       0  \n10835               16                       0  \n10836               32                       0  \n10838               29                       0  \n10839               45                       0  \n\n[8180 rows x 10 columns]",
      "text/html": "<div>\n<style scoped>\n    .dataframe tbody tr th:only-of-type {\n        vertical-align: middle;\n    }\n\n    .dataframe tbody tr th {\n        vertical-align: top;\n    }\n\n    .dataframe thead th {\n        text-align: right;\n    }\n</style>\n<table border=\"1\" class=\"dataframe\">\n  <thead>\n    <tr style=\"text-align: right;\">\n      <th></th>\n      <th>Rating</th>\n      <th>Reviews</th>\n      <th>Size</th>\n      <th>Installs</th>\n      <th>Category_Encoded</th>\n      <th>Content Rating_Encoded</th>\n      <th>Android Ver_Encoded</th>\n      <th>Time Since Last Update</th>\n      <th>App_Name_Length</th>\n      <th>Price_Category_Encoded</th>\n    </tr>\n  </thead>\n  <tbody>\n    <tr>\n      <th>0</th>\n      <td>4.1</td>\n      <td>159</td>\n      <td>19.0</td>\n      <td>10000</td>\n      <td>0</td>\n      <td>1</td>\n      <td>14</td>\n      <td>359</td>\n      <td>46</td>\n      <td>0</td>\n    </tr>\n    <tr>\n      <th>1</th>\n      <td>3.9</td>\n      <td>967</td>\n      <td>14.0</td>\n      <td>500000</td>\n      <td>0</td>\n      <td>1</td>\n      <td>14</td>\n      <td>351</td>\n      <td>19</td>\n      <td>0</td>\n    </tr>\n    <tr>\n      <th>2</th>\n      <td>4.7</td>\n      <td>87510</td>\n      <td>8.7</td>\n      <td>5000000</td>\n      <td>0</td>\n      <td>1</td>\n      <td>14</td>\n      <td>153</td>\n      <td>50</td>\n      <td>0</td>\n    </tr>\n    <tr>\n      <th>3</th>\n      <td>4.5</td>\n      <td>215644</td>\n      <td>25.0</td>\n      <td>50000000</td>\n      <td>0</td>\n      <td>4</td>\n      <td>17</td>\n      <td>207</td>\n      <td>21</td>\n      <td>0</td>\n    </tr>\n    <tr>\n      <th>4</th>\n      <td>4.3</td>\n      <td>967</td>\n      <td>2.8</td>\n      <td>100000</td>\n      <td>0</td>\n      <td>1</td>\n      <td>19</td>\n      <td>195</td>\n      <td>37</td>\n      <td>0</td>\n    </tr>\n    <tr>\n      <th>...</th>\n      <td>...</td>\n      <td>...</td>\n      <td>...</td>\n      <td>...</td>\n      <td>...</td>\n      <td>...</td>\n      <td>...</td>\n      <td>...</td>\n      <td>...</td>\n      <td>...</td>\n    </tr>\n    <tr>\n      <th>10833</th>\n      <td>4.0</td>\n      <td>7</td>\n      <td>2.6</td>\n      <td>500</td>\n      <td>11</td>\n      <td>1</td>\n      <td>16</td>\n      <td>562</td>\n      <td>13</td>\n      <td>0</td>\n    </tr>\n    <tr>\n      <th>10835</th>\n      <td>4.5</td>\n      <td>38</td>\n      <td>53.0</td>\n      <td>5000</td>\n      <td>11</td>\n      <td>1</td>\n      <td>16</td>\n      <td>525</td>\n      <td>16</td>\n      <td>0</td>\n    </tr>\n    <tr>\n      <th>10836</th>\n      <td>5.0</td>\n      <td>4</td>\n      <td>3.6</td>\n      <td>100</td>\n      <td>11</td>\n      <td>1</td>\n      <td>16</td>\n      <td>179</td>\n      <td>32</td>\n      <td>0</td>\n    </tr>\n    <tr>\n      <th>10838</th>\n      <td>4.5</td>\n      <td>114</td>\n      <td>0.0</td>\n      <td>1000</td>\n      <td>3</td>\n      <td>3</td>\n      <td>30</td>\n      <td>1443</td>\n      <td>29</td>\n      <td>0</td>\n    </tr>\n    <tr>\n      <th>10839</th>\n      <td>4.5</td>\n      <td>398307</td>\n      <td>19.0</td>\n      <td>10000000</td>\n      <td>18</td>\n      <td>1</td>\n      <td>30</td>\n      <td>160</td>\n      <td>45</td>\n      <td>0</td>\n    </tr>\n  </tbody>\n</table>\n<p>8180 rows × 10 columns</p>\n</div>"
     },
     "execution_count": 105,
     "metadata": {},
     "output_type": "execute_result"
    }
   ],
   "source": [
    "# Out of the correlations I see a few high correlations like App_Name_Length and Time Since Last Update (inverse). I don't think any correlation in this list is low enough to exclude out of the dataset for the moment. I will only delete Price, since I think working with price ranges in categories is more useful. I will also drop all the other, non-numeric columns\n",
    "\n",
    "numeric_columns = apps.select_dtypes(include=['number'])\n",
    "numeric_columns = numeric_columns.drop(['Price'], axis=1)\n",
    "\n",
    "# Drop non-numeric columns\n",
    "apps = apps[numeric_columns.columns]\n",
    "apps"
   ],
   "metadata": {
    "collapsed": false,
    "ExecuteTime": {
     "start_time": "2023-08-24T20:18:35.072089Z",
     "end_time": "2023-08-24T20:18:35.279500Z"
    }
   }
  },
  {
   "cell_type": "code",
   "execution_count": 106,
   "outputs": [
    {
     "data": {
      "text/plain": "                     Rating  Reviews  Size  Installs  Category_Encoded  \\\n# of missing values       0        0     0         0                 0   \n\n                     Content Rating_Encoded  Android Ver_Encoded  \\\n# of missing values                       0                    0   \n\n                     Time Since Last Update  App_Name_Length  \\\n# of missing values                       0                0   \n\n                     Price_Category_Encoded  \n# of missing values                       0  ",
      "text/html": "<div>\n<style scoped>\n    .dataframe tbody tr th:only-of-type {\n        vertical-align: middle;\n    }\n\n    .dataframe tbody tr th {\n        vertical-align: top;\n    }\n\n    .dataframe thead th {\n        text-align: right;\n    }\n</style>\n<table border=\"1\" class=\"dataframe\">\n  <thead>\n    <tr style=\"text-align: right;\">\n      <th></th>\n      <th>Rating</th>\n      <th>Reviews</th>\n      <th>Size</th>\n      <th>Installs</th>\n      <th>Category_Encoded</th>\n      <th>Content Rating_Encoded</th>\n      <th>Android Ver_Encoded</th>\n      <th>Time Since Last Update</th>\n      <th>App_Name_Length</th>\n      <th>Price_Category_Encoded</th>\n    </tr>\n  </thead>\n  <tbody>\n    <tr>\n      <th># of missing values</th>\n      <td>0</td>\n      <td>0</td>\n      <td>0</td>\n      <td>0</td>\n      <td>0</td>\n      <td>0</td>\n      <td>0</td>\n      <td>0</td>\n      <td>0</td>\n      <td>0</td>\n    </tr>\n  </tbody>\n</table>\n</div>"
     },
     "execution_count": 106,
     "metadata": {},
     "output_type": "execute_result"
    }
   ],
   "source": [
    "# the last thing I do in feature engineering is transforming the data. This way all the features will have the same range of magnitude.\n",
    "\n",
    "scaler = StandardScaler()\n",
    "\n",
    "numeric_columns = ['Reviews', 'Size', 'Installs', 'Category_Encoded', 'Content Rating_Encoded','Android Ver_Encoded', 'Time Since Last Update', 'App_Name_Length', 'Price_Category_Encoded']\n",
    "\n",
    "apps[numeric_columns] = scaler.fit_transform(apps[numeric_columns])\n",
    "\n",
    "pd.DataFrame(apps.isna().sum(), columns=['# of missing values']).T\n"
   ],
   "metadata": {
    "collapsed": false,
    "ExecuteTime": {
     "start_time": "2023-08-24T20:18:35.102923Z",
     "end_time": "2023-08-24T20:18:35.297956Z"
    }
   }
  },
  {
   "cell_type": "markdown",
   "source": [
    "#### 1.2.2 Feature Selection:\n",
    "Remove features that are not useful to improve the performance of the models"
   ],
   "metadata": {
    "collapsed": false
   }
  },
  {
   "cell_type": "code",
   "execution_count": 107,
   "outputs": [
    {
     "data": {
      "text/plain": "       Rating   Reviews  Category_Encoded  Android Ver_Encoded  \\\n0         4.1 -0.128607         -2.025024            -0.299978   \n1         3.9 -0.128200         -2.025024            -0.299978   \n2         4.7 -0.084654         -2.025024            -0.299978   \n3         4.5 -0.020180         -2.025024             0.141409   \n4         4.3 -0.128200         -2.025024             0.435668   \n...       ...       ...               ...                  ...   \n10833     4.0 -0.128683         -0.703577            -0.005720   \n10835     4.5 -0.128668         -0.703577            -0.005720   \n10836     5.0 -0.128685         -0.703577            -0.005720   \n10838     4.5 -0.128629         -1.664630             2.054089   \n10839     4.5  0.071731          0.137344             2.054089   \n\n       Time Since Last Update  App_Name_Length  Price_Category_Encoded  \n0                   -0.153015         1.865938               -0.264088  \n1                   -0.172447        -0.331355               -0.264088  \n2                   -0.653390         2.191463               -0.264088  \n3                   -0.522223        -0.168592               -0.264088  \n4                   -0.551371         1.133507               -0.264088  \n...                       ...              ...                     ...  \n10833                0.340073        -0.819642               -0.264088  \n10835                0.250199        -0.575499               -0.264088  \n10836               -0.590235         0.726601               -0.264088  \n10838                2.480024         0.482457               -0.264088  \n10839               -0.636386         1.784557               -0.264088  \n\n[8180 rows x 7 columns]",
      "text/html": "<div>\n<style scoped>\n    .dataframe tbody tr th:only-of-type {\n        vertical-align: middle;\n    }\n\n    .dataframe tbody tr th {\n        vertical-align: top;\n    }\n\n    .dataframe thead th {\n        text-align: right;\n    }\n</style>\n<table border=\"1\" class=\"dataframe\">\n  <thead>\n    <tr style=\"text-align: right;\">\n      <th></th>\n      <th>Rating</th>\n      <th>Reviews</th>\n      <th>Category_Encoded</th>\n      <th>Android Ver_Encoded</th>\n      <th>Time Since Last Update</th>\n      <th>App_Name_Length</th>\n      <th>Price_Category_Encoded</th>\n    </tr>\n  </thead>\n  <tbody>\n    <tr>\n      <th>0</th>\n      <td>4.1</td>\n      <td>-0.128607</td>\n      <td>-2.025024</td>\n      <td>-0.299978</td>\n      <td>-0.153015</td>\n      <td>1.865938</td>\n      <td>-0.264088</td>\n    </tr>\n    <tr>\n      <th>1</th>\n      <td>3.9</td>\n      <td>-0.128200</td>\n      <td>-2.025024</td>\n      <td>-0.299978</td>\n      <td>-0.172447</td>\n      <td>-0.331355</td>\n      <td>-0.264088</td>\n    </tr>\n    <tr>\n      <th>2</th>\n      <td>4.7</td>\n      <td>-0.084654</td>\n      <td>-2.025024</td>\n      <td>-0.299978</td>\n      <td>-0.653390</td>\n      <td>2.191463</td>\n      <td>-0.264088</td>\n    </tr>\n    <tr>\n      <th>3</th>\n      <td>4.5</td>\n      <td>-0.020180</td>\n      <td>-2.025024</td>\n      <td>0.141409</td>\n      <td>-0.522223</td>\n      <td>-0.168592</td>\n      <td>-0.264088</td>\n    </tr>\n    <tr>\n      <th>4</th>\n      <td>4.3</td>\n      <td>-0.128200</td>\n      <td>-2.025024</td>\n      <td>0.435668</td>\n      <td>-0.551371</td>\n      <td>1.133507</td>\n      <td>-0.264088</td>\n    </tr>\n    <tr>\n      <th>...</th>\n      <td>...</td>\n      <td>...</td>\n      <td>...</td>\n      <td>...</td>\n      <td>...</td>\n      <td>...</td>\n      <td>...</td>\n    </tr>\n    <tr>\n      <th>10833</th>\n      <td>4.0</td>\n      <td>-0.128683</td>\n      <td>-0.703577</td>\n      <td>-0.005720</td>\n      <td>0.340073</td>\n      <td>-0.819642</td>\n      <td>-0.264088</td>\n    </tr>\n    <tr>\n      <th>10835</th>\n      <td>4.5</td>\n      <td>-0.128668</td>\n      <td>-0.703577</td>\n      <td>-0.005720</td>\n      <td>0.250199</td>\n      <td>-0.575499</td>\n      <td>-0.264088</td>\n    </tr>\n    <tr>\n      <th>10836</th>\n      <td>5.0</td>\n      <td>-0.128685</td>\n      <td>-0.703577</td>\n      <td>-0.005720</td>\n      <td>-0.590235</td>\n      <td>0.726601</td>\n      <td>-0.264088</td>\n    </tr>\n    <tr>\n      <th>10838</th>\n      <td>4.5</td>\n      <td>-0.128629</td>\n      <td>-1.664630</td>\n      <td>2.054089</td>\n      <td>2.480024</td>\n      <td>0.482457</td>\n      <td>-0.264088</td>\n    </tr>\n    <tr>\n      <th>10839</th>\n      <td>4.5</td>\n      <td>0.071731</td>\n      <td>0.137344</td>\n      <td>2.054089</td>\n      <td>-0.636386</td>\n      <td>1.784557</td>\n      <td>-0.264088</td>\n    </tr>\n  </tbody>\n</table>\n<p>8180 rows × 7 columns</p>\n</div>"
     },
     "execution_count": 107,
     "metadata": {},
     "output_type": "execute_result"
    }
   ],
   "source": [
    "# Using f tests for regression and going with the best 75% of features. I think we have enough useful features with 60% as the percentile.\n",
    "\n",
    "selector = SelectPercentile(score_func=f_regression, percentile=75)\n",
    "X = selector.fit_transform(apps.select_dtypes(include=np.number), apps.Rating)\n",
    "best_features = selector.get_support(indices=True)\n",
    "apps = apps.select_dtypes(include=np.number).iloc[:, best_features]\n",
    "apps"
   ],
   "metadata": {
    "collapsed": false,
    "ExecuteTime": {
     "start_time": "2023-08-24T20:18:35.152824Z",
     "end_time": "2023-08-24T20:18:35.328901Z"
    }
   }
  }
 ],
 "metadata": {
  "kernelspec": {
   "display_name": "Python 3",
   "language": "python",
   "name": "python3"
  },
  "language_info": {
   "codemirror_mode": {
    "name": "ipython",
    "version": 2
   },
   "file_extension": ".py",
   "mimetype": "text/x-python",
   "name": "python",
   "nbconvert_exporter": "python",
   "pygments_lexer": "ipython2",
   "version": "2.7.6"
  }
 },
 "nbformat": 4,
 "nbformat_minor": 0
}
